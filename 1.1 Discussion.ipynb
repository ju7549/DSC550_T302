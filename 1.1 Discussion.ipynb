{
 "cells": [
  {
   "cell_type": "markdown",
   "metadata": {
    "collapsed": true,
    "pycharm": {
     "name": "#%% md\n"
    }
   },
   "source": [
    "Data mining is the process that uses the most efficient systems and algorithms to uncover hidden patterns and information on big data. Data mining is also the process of creating a model from data and finding proper algorithms to solve the problem and discover knowledge. At its core, there are three scientific disciplines (Data Mining):\n",
    "\n",
    "- Statistical Modeling: the numerical study of data relationships\n",
    "- Artificial Intelligence: human-like intelligence displayed by software and/or machines \n",
    "- Machine Learning: algorithms that can learn from data to make predictions\n",
    "- Database Engineering: system to store, manage, process data\n",
    "\n",
    "The importance of data mining arises as the volume of data grows exponentially, types of data increases, and the speed of streaming data increases. The data mining concepts and techniques are vastly used by various industries including finance, banking, manufacturing, insurance, etc. Data mining can help them with analyzing big data, retails, making predictions, and accelerate data driven decision making.\n",
    "\n",
    "Data mining implementation process starts with business understanding followed by data understanding, data preparation, modeling, evaluation, and deployment (Data Mining Tutorial).\n",
    "\n",
    "- Business understanding: in this phase, data scientists understand the business problems and define project objectives. \n",
    "- Data understanding: in this phase, data scientists search for available datasets to be used in the project. They define data schema, attributes, relationships and also perform exploratory data analysis to understand the datasets.\n",
    "- Data preparation: in this phase, data scientists start to pull data from various sources identified from the previous phase. Collected data will be stored in an analytics database, then cleaned, transformed, reformatted, merged into the base analytics table to be fed into data mining algorithms.\n",
    "- Data transformation: data transformation is a key to success in the training process. Various data transformation techniques can be used to produce features attributes. They are:\n",
    "    - Smoothing: remove outliers and noises from the dataset\n",
    "    - Aggregation: group attributes and summarize dataset\n",
    "    - Normalization: unify units used in numeric variables by scaling \n",
    "    - Attribute construction: construct a new variable (for example, delta, mean)\n",
    "- Modelling:  in this phase, a model will be developed to discover patterns from the dataset. There are three types of model (Data Mining):\n",
    "    - Descriptive Modeling: data scientists use the data mining techniques to answer what happened in the past looking at the dataset. Clustering, anomaly detection, association rule learning, principal component analysis, and affinity grouping could be used for this type of analysis\n",
    "    - Predictive Modeling: data scientists use the data mining techniques to answer what could happen in the future looking at the dataset. It will predict either numeric values or categorical values. Regression, neural networks, and decision trees are in this type of analysis\n",
    "    - Prescriptive Modeling: data scientists use the data mining techniques to answer what we should do in the future looking at the dataset. Predictive analytics plus rules and marketing optimization are in this type of analysis\n",
    "Evaluation: in this phase, data scientists evaluate models with stakeholders against the project objectives. Models can be cross validated and compared to other models for selection or ensemble with other models for better performance.\n",
    "Deployment: in this phase, data scientists deploy the model to business and closely monitor/evaluate/modify the model on a daily basis.\n",
    "\n",
    "To conclude, data mining is a process to extract knowledge from huge datasets. Due to the high performance and accuracy of modern data mining algorithms, business partners can make accurate decisions driven by data.\n",
    "\n",
    "\n",
    "References\n",
    "\n",
    "Data Mining. Retrieved from https://www.sas.com/en_us/insights/analytics/data-mining.html.  \n",
    "Data Mining Tutorial: Process, Techniques, Tools, EXAMPLES. Retrieved from https://www.guru99.com/data-mining-tutorial.html#1.  \n",
    "Leskovec, J., Rajaraman, A., & Ullman, J. D. (2019). Mining of Massive Datasets. Stanford University.\n",
    "\n",
    "\n",
    "\n"
   ]
  }
 ],
 "metadata": {
  "kernelspec": {
   "display_name": "Python 3",
   "language": "python",
   "name": "python3"
  },
  "language_info": {
   "codemirror_mode": {
    "name": "ipython",
    "version": 2
   },
   "file_extension": ".py",
   "mimetype": "text/x-python",
   "name": "python",
   "nbconvert_exporter": "python",
   "pygments_lexer": "ipython2",
   "version": "2.7.6"
  },
  "pycharm": {
   "stem_cell": {
    "cell_type": "raw",
    "source": [],
    "metadata": {
     "collapsed": false
    }
   }
  }
 },
 "nbformat": 4,
 "nbformat_minor": 0
}